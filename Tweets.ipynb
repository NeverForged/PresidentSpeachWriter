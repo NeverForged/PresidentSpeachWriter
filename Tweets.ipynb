{
 "cells": [
  {
   "cell_type": "markdown",
   "metadata": {},
   "source": [
    "# \"Presidential\" Tweet Writer"
   ]
  },
  {
   "cell_type": "code",
   "execution_count": 10,
   "metadata": {
    "collapsed": false
   },
   "outputs": [],
   "source": [
    "from src.tweet_writer import DrumpfTweetWriter as Tweet"
   ]
  },
  {
   "cell_type": "code",
   "execution_count": 2,
   "metadata": {
    "collapsed": false,
    "scrolled": true
   },
   "outputs": [
    {
     "name": "stdout",
     "output_type": "stream",
     "text": [
      "This took only 75.758s\n"
     ]
    }
   ],
   "source": [
    "import gensim\n",
    "import time\n",
    "\n",
    "def get_google():\n",
    "        '''\n",
    "        Loads google news word2vec model\n",
    "        '''\n",
    "        start = time.clock()\n",
    "        # b = '../model/300features_5min_word_count_10context.npy'\n",
    "        b = 'model/GoogleNews-vectors-negative300.bin'\n",
    "        try:\n",
    "            model = gensim.models.KeyedVectors.load_word2vec_format(b, binary=True)\n",
    "        except:\n",
    "            model = gensim.models.Word2Vec.load(b)\n",
    "        model.init_sims(replace=True)  # save memory\n",
    "        print(\"This took only {:.3f}s\".format(time.clock()-start))\n",
    "        return model\n",
    "\n",
    "model = get_google()"
   ]
  },
  {
   "cell_type": "markdown",
   "metadata": {},
   "source": [
    "So, it's been imported.  To use, simply fill in the following information:\n",
    "* n_grams - this sets the ngrams to use, 1, 2, or 3\n",
    "* char_limit - this sets the character limit, 1 = 140, 2 = 280\n",
    "* topic - a word to stay on topic, default is 'sad'\n",
    "* topic_check - number of words to check to stay on topic, default is 2"
   ]
  },
  {
   "cell_type": "code",
   "execution_count": 94,
   "metadata": {
    "collapsed": true
   },
   "outputs": [],
   "source": [
    "n_grams = 2\n",
    "char_limit = 2\n",
    "topic = 'sad'\n",
    "topic_check = 100"
   ]
  },
  {
   "cell_type": "markdown",
   "metadata": {},
   "source": [
    "Now just run the cell below."
   ]
  },
  {
   "cell_type": "code",
   "execution_count": 95,
   "metadata": {
    "collapsed": false,
    "scrolled": false
   },
   "outputs": [
    {
     "name": "stdout",
     "output_type": "stream",
     "text": [
      "accomplish many more excuses will Obama apologize to me just like I do love real estate you have good taste! \"@AarranMcPherson: @realDonaldTrump Good luck commenting on this terrible day! RT @gatewaypundit: The Trump would do really well. Miss USA pageant tomorrow night\n"
     ]
    }
   ],
   "source": [
    "from src.tweet_writer import DrumpfTweetWriter as Tweet\n",
    "\n",
    "tweet = Tweet(model=model, n_grams=n_grams, char_limit=char_limit, topic=topic, topic_check=topic_check)\n",
    "hashtag = tweet.hit_send()\n",
    "print(hashtag)"
   ]
  },
  {
   "cell_type": "code",
   "execution_count": null,
   "metadata": {
    "collapsed": true
   },
   "outputs": [],
   "source": []
  }
 ],
 "metadata": {
  "anaconda-cloud": {},
  "kernelspec": {
   "display_name": "Python [conda root]",
   "language": "python",
   "name": "conda-root-py"
  },
  "language_info": {
   "codemirror_mode": {
    "name": "ipython",
    "version": 3
   },
   "file_extension": ".py",
   "mimetype": "text/x-python",
   "name": "python",
   "nbconvert_exporter": "python",
   "pygments_lexer": "ipython3",
   "version": "3.5.2"
  }
 },
 "nbformat": 4,
 "nbformat_minor": 1
}
