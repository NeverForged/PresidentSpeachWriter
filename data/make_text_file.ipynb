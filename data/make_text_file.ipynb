{
 "cells": [
  {
   "cell_type": "code",
   "execution_count": 1,
   "metadata": {
    "collapsed": true
   },
   "outputs": [],
   "source": [
    "import pandas as pd"
   ]
  },
  {
   "cell_type": "code",
   "execution_count": 2,
   "metadata": {
    "collapsed": false
   },
   "outputs": [
    {
     "data": {
      "text/html": [
       "<div>\n",
       "<table border=\"1\" class=\"dataframe\">\n",
       "  <thead>\n",
       "    <tr style=\"text-align: right;\">\n",
       "      <th></th>\n",
       "      <th>Text</th>\n",
       "      <th>Date</th>\n",
       "      <th>Favorites</th>\n",
       "      <th>Retweets</th>\n",
       "      <th>Tweet ID</th>\n",
       "    </tr>\n",
       "  </thead>\n",
       "  <tbody>\n",
       "    <tr>\n",
       "      <th>0</th>\n",
       "      <td>I have not heard any of the pundits or comment...</td>\n",
       "      <td>2016-12-21 13:29:38</td>\n",
       "      <td>14755</td>\n",
       "      <td>4055</td>\n",
       "      <td>811564284706689024</td>\n",
       "    </tr>\n",
       "    <tr>\n",
       "      <th>1</th>\n",
       "      <td>I would have done even better in the election,...</td>\n",
       "      <td>2016-12-21 13:24:29</td>\n",
       "      <td>11129</td>\n",
       "      <td>2789</td>\n",
       "      <td>811562990285848576</td>\n",
       "    </tr>\n",
       "    <tr>\n",
       "      <th>2</th>\n",
       "      <td>Campaigning to win the Electoral College is mu...</td>\n",
       "      <td>2016-12-21 13:15:14</td>\n",
       "      <td>14906</td>\n",
       "      <td>3925</td>\n",
       "      <td>811560662853939200</td>\n",
       "    </tr>\n",
       "    <tr>\n",
       "      <th>3</th>\n",
       "      <td>Yes, it is true - Carlos Slim, the great busin...</td>\n",
       "      <td>2016-12-20 20:27:57</td>\n",
       "      <td>51424</td>\n",
       "      <td>12578</td>\n",
       "      <td>811307169043849216</td>\n",
       "    </tr>\n",
       "    <tr>\n",
       "      <th>4</th>\n",
       "      <td>especially how to get people, even with an unl...</td>\n",
       "      <td>2016-12-20 13:09:18</td>\n",
       "      <td>35699</td>\n",
       "      <td>8008</td>\n",
       "      <td>811196778779463684</td>\n",
       "    </tr>\n",
       "  </tbody>\n",
       "</table>\n",
       "</div>"
      ],
      "text/plain": [
       "                                                Text                 Date  \\\n",
       "0  I have not heard any of the pundits or comment...  2016-12-21 13:29:38   \n",
       "1  I would have done even better in the election,...  2016-12-21 13:24:29   \n",
       "2  Campaigning to win the Electoral College is mu...  2016-12-21 13:15:14   \n",
       "3  Yes, it is true - Carlos Slim, the great busin...  2016-12-20 20:27:57   \n",
       "4  especially how to get people, even with an unl...  2016-12-20 13:09:18   \n",
       "\n",
       "   Favorites  Retweets            Tweet ID  \n",
       "0      14755      4055  811564284706689024  \n",
       "1      11129      2789  811562990285848576  \n",
       "2      14906      3925  811560662853939200  \n",
       "3      51424     12578  811307169043849216  \n",
       "4      35699      8008  811196778779463684  "
      ]
     },
     "execution_count": 2,
     "metadata": {},
     "output_type": "execute_result"
    }
   ],
   "source": [
    "df = pd.read_csv('data.csv')\n",
    "df.head()"
   ]
  },
  {
   "cell_type": "code",
   "execution_count": 3,
   "metadata": {
    "collapsed": false
   },
   "outputs": [
    {
     "data": {
      "text/plain": [
       "(31175, 5)"
      ]
     },
     "execution_count": 3,
     "metadata": {},
     "output_type": "execute_result"
    }
   ],
   "source": [
    "df.shape"
   ]
  },
  {
   "cell_type": "code",
   "execution_count": 4,
   "metadata": {
    "collapsed": false
   },
   "outputs": [
    {
     "data": {
      "text/plain": [
       "0    I have not heard any of the pundits or comment...\n",
       "1    I would have done even better in the election,...\n",
       "2    Campaigning to win the Electoral College is mu...\n",
       "3    Yes, it is true - Carlos Slim, the great busin...\n",
       "4    especially how to get people, even with an unl...\n",
       "Name: Text, dtype: object"
      ]
     },
     "execution_count": 4,
     "metadata": {},
     "output_type": "execute_result"
    }
   ],
   "source": [
    "df_text = df['Text']\n",
    "df_text.head()"
   ]
  },
  {
   "cell_type": "code",
   "execution_count": 5,
   "metadata": {
    "collapsed": false,
    "scrolled": false
   },
   "outputs": [
    {
     "name": "stdout",
     "output_type": "stream",
     "text": [
      "error at  \"@AZTRUMPTRAIN: I #Voted for DonaldTrump! #Arizona ☉ #Economy #Immigration #Jobs #Veterans #BorderControl #Trade… https://twitter.com/i/web/status/789697364193742848 …\"\n",
      "error at  #CrookedHillary has FAILED all over the world! 􏰀 \n",
      "#BigLeagueTruth #Debates2016pic.twitter.com/dalk9JKcFg\n",
      "error at  \"@KathyTravels777:  ĺ @andersoncooper Tonight on CNN @realDonaldTrump was GREAT. Loved the intimacy of conversation w the people\"\n",
      "error at  \"@LivNow: THIS IS WHO WE R ☆REGISTER AS REP ONLINE 2VOTE TRUMP IN PRIMARY : https://www.usa.gov/register-to-vote … #MAKEAMERICAGREATAGAIN @Carolde\"\n",
      "error at  \"@WineChics: Trump Winery: http://wp.me/p31RaR-V  via @WineChics Always an amazing experience at Trump Winery​ Beautiful fall foliage\n",
      "error at  \"@sherrysue66: I am working a #12HR #AMERICAN SHIFT BUT WILL STAY UP 2 WATCH! I COULD USE A SATURDAY NIGHT LIVE LAUGH! #WE♡U. Nice.\n",
      "error at  Should be interesting but too bad the three guys at《1% will be taking up so much time -  but who knows, maybe a star will be born (unlikely)\n",
      "error at  \"@TN_RiverFolk: My 2016 Vote will B based on #MakeAmericaGreatAgain NOT Eminent Domain●Americans need 2Prioritize   pic.twitter.com/hPPy3gw3Ld\"\n",
      "error at  \"@John832TheTruth: @FrankLuntz your focus groups are rigged and your company ran out of $ in 2011. KEEP SPEAKING THE TRUTH! TRUMP 2016!♡\"\n",
      "error at  \"@SEETEK_AU: Watch, listen, and learn. You can’t know it all yourself. Anyone who thinks they do is destined for mediocrity.― Donald Trump\n",
      "error at  Huge Townhall tomorrow at 5PM in the NH Barrington Middle School! Thanks to @straffordnhgop​ for hosting! Let’s Make America Great Again!\n",
      "error at  \"@toypilaVzla: #trumpforpresident @realDonaldTrump is ☞ triumph. Next year sounded the trumpets! https://twitter.com/toypilaVzla/status/579827138729246721/photo/1pic.twitter.com/GFrLERgqli \"\n",
      "error at  \"@toypilaVzla: Donald for President @realDonaldTrump. Trump is ☞ triumph  #TrumpforPresident\n",
      "error at  “@Algemeiner Honors @Joan_Rivers, Donald Trump, @YuliEdelstein at Second Annual ‘Jewish 100′ Gala” http://www.algemeiner.com/2015/02/05/algemeiner-honors-joan-rivers-donald-trump-yuli-edelstein-at-second-annual-jewish-100-gala/ … via @Algemeiner\n",
      "error at  \"@vivianbrown21:Can't WAIT till tonight To see EpisodeW/\"JOAN RIVERS\"!!a true Winner!! Hope you PayTribute to her GREATNESS! ♡JOAN#RIVERS !\"\n",
      "error at  \"@RositaLacruz: I love you @realDonaldTrump I love yours books ♡♡♡ resgards from Venezuela!!!!\"\n",
      "error at  \"@CuneytGkn: @realDonaldTrump keepıng ıt real on Davıd Letterman  pic.twitter.com/PzIVEqBwka\"\n",
      "error at  \"@Dawn__Patrol:  @louise_kruger1 @peter_bollini @samcgirl I can't wait 4 celeb apprentice, ♡ The Donald! Finally, I've been waiting 2 long!\"\n",
      "error at  \"@LeRoyal_Pegasus: “Show me someone without an ego, and I'll show you a loser.” ― @realDonaldTrump\"\n",
      "error at  \"@RockChristopher: I wasnt satisfied just to earn a good living. I was looking to make a statement. ~ Donald Trump\n",
      "error at  \"@terriduncan73: @realDonaldTrump I would definately vote for you ♡♡\"\n",
      "error at  \"@Cknikita  I'd♡ Love ♡Donald Trump to buy the @buffalobills and Also run for Our President!  #Super Deal #Double #Win Win!\" Thx.@nflcommish\n",
      "error at  \"@AndyDubaingltd\n",
      "@realDonaldTrump Mr Trump,you were created for our generatıon\"  Wow!\n",
      "error at  \"@Smile4Riley: @realDonaldTrump Just ONE TWEET from The Donald Could CHANGE Lil Riley of NJs Life Post HEART/LUNG Transplant ♡\n",
      "error at  @jodiyilek             \n",
      "\"@realDonaldTrump you have my vote! ★★★★★\"  Thanks.\n",
      "error at  \"@sabrinarose2012: @realDonaldTrump @Teresa_Giudice thanks Mr. Trump♡ we  Teresa★ #RHONJ\"  Say hello to Teresa-tell her to keep her chin up\n",
      "error at  \"Enthusiasm is a vital element in individual success.\" ― Conrad Hilton\n",
      "error at  ‎In anticipation of ObamaCare, part-time jobs are surging & full-time jobs are falling and becoming scarcehttp://bit.ly/14zwTFE \n",
      "error at  Congratulations to @newtgingrich‎ on being signed to co-host @CNN Crossfire. Great move by Jeff Zucker.\n",
      "error at  \"@MagamboArt: ＲＴ~☞@realDonaldTrump. Our prayers are with you, Be well soon ! God bless you Nelson Mandela #Mandela pic.twitter.com/G3Tda1mD9F\"\n",
      "error at  ‏.@richardroeper- Perhaps one of the worst replacements in showbiz, once you went on it was over! Your taste sucks!\n",
      "error at  .@alexsalmond @pressjournal @BBCNews RT ‏@DanScavino                  \n",
      " the photos that they don't show the public... https://twitter.com/DanScavino/status/322778453181079552/photo/1pic.twitter.com/io18z7NM9b \n",
      "error at  \"You can't tax business. Business doesn't pay taxes. It collects taxes.\" ― Ronald Reagan\n",
      "error at  \"Never confuse a single defeat with a final defeat.\" ― F. Scott Fitzgerald\n"
     ]
    }
   ],
   "source": [
    "with open('data.txt', 'w') as f:\n",
    "    for a in df_text:\n",
    "        try: \n",
    "            f.write(str(a)+'\\n')\n",
    "        except:\n",
    "            print('error at ', a)"
   ]
  }
 ],
 "metadata": {
  "anaconda-cloud": {},
  "kernelspec": {
   "display_name": "Python [default]",
   "language": "python",
   "name": "python3"
  },
  "language_info": {
   "codemirror_mode": {
    "name": "ipython",
    "version": 3
   },
   "file_extension": ".py",
   "mimetype": "text/x-python",
   "name": "python",
   "nbconvert_exporter": "python",
   "pygments_lexer": "ipython3",
   "version": "3.5.2"
  }
 },
 "nbformat": 4,
 "nbformat_minor": 1
}
